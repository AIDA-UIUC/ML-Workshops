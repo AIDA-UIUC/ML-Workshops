{
 "cells": [
  {
   "cell_type": "markdown",
   "metadata": {},
   "source": [
    "# K-Means Clustering\n",
    "+ Simple, and effective unsupervised learning algorithm for partitioning data into K clusters\n",
    "+ Utilizes the Expectation-Maximization (EM) algorithm:\n",
    "![alt text](nb_images/k-means.png)\n",
    "+ Useful reference for unsupervised learning [here](https://stanford.edu/~shervine/teaching/cs-229/cheatsheet-unsupervised-learning) (see k-means section)"
   ]
  },
  {
   "cell_type": "code",
   "execution_count": null,
   "metadata": {},
   "outputs": [],
   "source": []
  }
 ],
 "metadata": {
  "kernelspec": {
   "display_name": "Python 3",
   "language": "python",
   "name": "python3"
  },
  "language_info": {
   "codemirror_mode": {
    "name": "ipython",
    "version": 3
   },
   "file_extension": ".py",
   "mimetype": "text/x-python",
   "name": "python",
   "nbconvert_exporter": "python",
   "pygments_lexer": "ipython3",
   "version": "3.7.4"
  }
 },
 "nbformat": 4,
 "nbformat_minor": 2
}
