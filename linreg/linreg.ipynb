{
 "cells": [
  {
   "cell_type": "markdown",
   "metadata": {},
   "source": [
    "# Linear Regression Two ways\n",
    "\n",
    "1. By Gradient Descent\n",
    "2. The Analytical Solution  \n",
    "\n",
    "#### Prerequisites: Calculus, Linear Algebra"
   ]
  },
  {
   "cell_type": "code",
   "execution_count": 2,
   "metadata": {},
   "outputs": [],
   "source": [
    "# Import depedencies\n",
    "import numpy as np\n",
    "import matplotlib.pyplot as plt\n",
    "\n",
    "%matplotlib inline"
   ]
  },
  {
   "cell_type": "markdown",
   "metadata": {},
   "source": [
    "**First we make a toy dataset by creating a function that:**\n",
    "1. Randomly initializes a line \n",
    "2. Randomly samples points in the domain\n",
    "3. Returns an array of the points on the line with added gaussian noise\n",
    "\n",
    "**Additionally, we make a visualization function that plots the dataset**"
   ]
  },
  {
   "cell_type": "code",
   "execution_count": 3,
   "metadata": {},
   "outputs": [],
   "source": [
    "def generate_data(size, mean=10.0, std=20.0):\n",
    "    \"\"\"Returns a toy linear dataset (x,y)\n",
    "    \"\"\"\n",
    "    # randomly initialize a line\n",
    "    m, b = np.random.randn(2)\n",
    "    \n",
    "    # Generate arrays to be sampled from\n",
    "    x = np.linspace(1, size, size)\n",
    "    y = m * x + b\n",
    "    \n",
    "    # Add noise to the y output\n",
    "    noise = np.random.normal(loc=mean, scale=std, size=size)\n",
    "    sampled_y = y + noise\n",
    "    \n",
    "    return x, sampled_y\n",
    "\n",
    "def show_dataset(x, y, lines=[]):\n",
    "    \"\"\"Plots a dataset and an arbitrary number of input lines\n",
    "    \"\"\"\n",
    "    plt.scatter(x, y)\n",
    "    for line in lines:\n",
    "        plt.plot(line[0], label=line[1])\n",
    "    plt.legend()\n",
    "    plt.show()"
   ]
  },
  {
   "cell_type": "code",
   "execution_count": 4,
   "metadata": {},
   "outputs": [
    {
     "data": {
      "image/png": "[encoded data removed]",
      "text/plain": [
       "<Figure size 432x288 with 1 Axes>"
      ]
     },
     "metadata": {},
     "output_type": "display_data"
    }
   ],
   "source": [
    "x, y = generate_data(100)\n",
    "lines = [(0.5*x+10, 'random line')]\n",
    "show_dataset(x, y, lines)"
   ]
  },
  {
   "cell_type": "markdown",
   "metadata": {},
   "source": [
    "## Method 1: Gradient Descent\n",
    "\n",
    "* First lets define a few things: <br>\n",
    "    1. Equation of a line - This is the method of regression  <br><br>\n",
    "        $$ \\hat{y} = mx + b $$  <br><br>\n",
    "         \n",
    "    2. Mean-squared-error Loss function - This is desirable since MSE is convex i.e. it has a global minimum. <br>  \n",
    "        $$ L = \\frac{1}{2N}\\sum_{i=1}^{N} (y_i-\\hat{y}_i)^2 $$  <br><br>\n",
    "          \n",
    "    3. Gradient Descent Rule - This is how the parameters get updated such that the loss is minimized.  <br><br>\n",
    "        $$ m := m - \\alpha \\frac{\\partial L}{\\partial m} $$ <br>\n",
    "        $$ b := b - \\alpha \\frac{\\partial L}{\\partial b} $$ <br><br>\n",
    "\n",
    "* All we need to do is calculate the gradient of $\\hat{y}$ w.r.t. the parameters:  \n",
    "    1. Derivative with respect to m  <br><br>\n",
    "        $$ \\frac{\\partial L}{\\partial m} = \\frac{\\partial L}{\\partial\\hat{y}}\\frac{\\partial\\hat{y}}{\\partial m} = -\\frac{1}{N}(y - \\hat{y})x $$  <br><br>\n",
    "    2. Derivative with respect to b  <br><br>\n",
    "        $$ \\frac{\\partial L}{\\partial b} = \\frac{\\partial L}{\\partial\\hat{y}}\\frac{\\partial\\hat{y}}{\\partial b} = -\\frac{1}{N}(y - \\hat{y}) $$ <br><br>\n",
    "\n",
    "* Now we have the tools to perform linear regression by gradient descent:"
   ]
  },
  {
   "cell_type": "code",
   "execution_count": 8,
   "metadata": {},
   "outputs": [],
   "source": [
    "def mseloss(value, target):\n",
    "    \"\"\"Computes the mean squared error (MSE) loss function\n",
    "    \"\"\"\n",
    "    return 0.5*np.square(target - value).mean()\n",
    "\n",
    "def gradient_descent(xs, ys, epochs, lr, num_lines=4):\n",
    "    \"\"\"Implements gradient descent on a dataset to reduce the MSE loss\n",
    "    \"\"\"\n",
    "    # Initialize the parameters\n",
    "    m, b = np.random.rand(2)\n",
    "    \n",
    "    # Unpack the dataset and begin fitting\n",
    "    lines = []\n",
    "    for epoch in range(epochs):\n",
    "        \n",
    "        # Iterate over the entire dataset\n",
    "        for x, y in zip(xs, ys):\n",
    "\n",
    "            # Calculate the predicted value\n",
    "            y_hat = m * x + b\n",
    "\n",
    "            # Calculate the gradients\n",
    "            del_m = -(1/len(xs))*(y - y_hat)*x\n",
    "            del_b = -(1/len(xs))*(y - y_hat)\n",
    "\n",
    "            # Update the parameters\n",
    "            m -= lr * del_m\n",
    "            b -= lr * del_b\n",
    "            \n",
    "        # Computed the updated predictions\n",
    "        predictions = m * xs + b\n",
    "            \n",
    "        # Add lines to plot\n",
    "        if epoch % int(epochs / num_lines) == 0:\n",
    "            lines.append((predictions, f'epoch {epoch}'))\n",
    "        \n",
    "        # Compute and print the loss\n",
    "        if epoch % 100 == 0:\n",
    "            print(f\"Epoch: {epoch} MSE Loss: {mseloss(predictions, ys)}\")\n",
    "        \n",
    "    #Show the fitted lines\n",
    "    show_dataset(xs, ys, lines)\n",
    "    \n",
    "    return m*xs+b"
   ]
  },
  {
   "cell_type": "code",
   "execution_count": 11,
   "metadata": {},
   "outputs": [
    {
     "name": "stdout",
     "output_type": "stream",
     "text": [
      "Epoch: 0 MSE Loss: 3365.8849358763296\n",
      "Epoch: 100 MSE Loss: 771.2411922059983\n",
      "Epoch: 200 MSE Loss: 306.11629989934653\n",
      "Epoch: 300 MSE Loss: 222.74771826612735\n",
      "Epoch: 400 MSE Loss: 207.80770357615464\n"
     ]
    },
    {
     "data": {
      "image/png": "[encoded data removed]",
      "text/plain": [
       "<Figure size 432x288 with 1 Axes>"
      ]
     },
     "metadata": {},
     "output_type": "display_data"
    }
   ],
   "source": [
    "xdata, ydata = generate_data(50)\n",
    "y_pred = gradient_descent(xdata, ydata, epochs=500, lr=0.00001, num_lines=4)"
   ]
  },
  {
   "cell_type": "markdown",
   "metadata": {},
   "source": [
    "You can see that gradient descent has successfully fitted the best possible line to dataset, however the loss may still be large since the dataset is very noisy and calculated by the sum of squared distances."
   ]
  },
  {
   "cell_type": "markdown",
   "metadata": {},
   "source": [
    "$\\newcommand{\\x}{X}$\n",
    "$\\newcommand{\\t}{\\theta}$\n",
    "$\\newcommand{\\yh}{\\hat{\\textbf{y}}}$\n",
    "$\\newcommand{\\y}{\\textbf{y}}$\n",
    "## Method 2: Analytical Solution\n",
    "* This method computes the optimal parameters for the linear model in one-shot. <br>\n",
    "    1. In general, the linear equation becomes:  <br><br>\n",
    "$$\n",
    "\\yh = \\x\\t\\qquad\\t\\in{\\Re^{n+1},\\quad\\x\\in{\\Re^{m\\times(n+1)}}}\n",
    "$$<br><br>\n",
    "        - where $\\x$ is a matrix of features with 1 appended to the end and $\\t$ is a vector of parameters with the bias appended to the end. <br>\n",
    "        - If you're wondering why the equation for $\\yh$ is $\\x\\t$ and not $\\t\\x$, it's because we are looking for a vector of paramters that will fit _all_ examples.<br><br>\n",
    "        \n",
    "    2. The loss function becomes (check this for yourself):  <br><br>\n",
    "        $$ L = \\frac{1}{2N}(\\x\\t-\\y)^T(\\x\\t-\\y)$$<br><br>\n",
    "        \n",
    "* Now we can can go about deriving the analytical solution by solving the following optimization problem: <br><br>\n",
    "$$ \\t^{*} = \\underset{\\t}{\\arg\\min} L(\\x;\\y,\\t) $$ \n",
    "\n",
    "    1. The first step is to expand the loss function and leave out the constant factor in front for convenience:<br>\n",
    "    \n",
    "        $$ L = ((\\x\\t)^T-\\y^T)(\\x\\t-\\y)$$ <br>\n",
    "        $$ \\hspace{0.4cm} = (\\x\\t)^T(\\x\\t)-(\\x\\t)^T\\y-\\y^T(\\x\\t)+\\y^T\\y $$ <br>\n",
    "        $$ \\hspace{0.4cm} = (\\x\\t)^T(\\x\\t)-(\\x\\t)^T\\y-((\\x\\t)^T\\y)^T+\\y^T\\y$$ <br>\n",
    "        $$ \\hspace{0.4cm} = \\t^T\\x^T\\x\\t-2\\y^T\\x\\t+\\y^T\\y $$ <br>\n",
    "        \n",
    "    2. Now we use some results of matrix calculus <br><br>\n",
    "        $$\\frac{(\\partial{\\x\\t})}{\\partial{\\t}} = \\x^T, \\quad\\frac{\\partial{\\t^TM\\t}}{\\partial{\\t}}=M\\t+M^T\\t$$ <br>\n",
    "        <br>\n",
    "    3. We can now finish the derivation for the optimal $\\t$ by taking $\\frac{\\partial{L}}{\\partial{\\t}}$ and setting it equal to zero: <br>\n",
    "        \n",
    "        $$\\frac{\\partial{L}}{\\partial{\\t}}\\Bigr\\rvert_{\\t=\\t^{*}} = \\x^T\\x\\t^{*}+\\x^T\\x\\t^{*}-2\\x^T\\y=0$$<br>\n",
    "        $$2\\x^T\\x\\t^{*}=2\\x^T\\y$$<br>\n",
    "        $$\\t^{*}=(\\x^T\\x)^{-1}\\x^T\\y \\quad_\\square$$ <br><br>\n",
    "    \n",
    "* Finally, lets write the code to implement this:"
   ]
  },
  {
   "cell_type": "code",
   "execution_count": 14,
   "metadata": {},
   "outputs": [
    {
     "name": "stdout",
     "output_type": "stream",
     "text": [
      "[[26.  1.]\n",
      " [27.  1.]\n",
      " [28.  1.]\n",
      " [29.  1.]\n",
      " [30.  1.]\n",
      " [31.  1.]\n",
      " [32.  1.]\n",
      " [33.  1.]\n",
      " [34.  1.]\n",
      " [35.  1.]\n",
      " [36.  1.]\n",
      " [37.  1.]\n",
      " [38.  1.]\n",
      " [39.  1.]\n",
      " [40.  1.]\n",
      " [41.  1.]\n",
      " [42.  1.]\n",
      " [43.  1.]\n",
      " [44.  1.]\n",
      " [45.  1.]\n",
      " [46.  1.]\n",
      " [47.  1.]\n",
      " [48.  1.]\n",
      " [49.  1.]\n",
      " [50.  1.]]\n"
     ]
    }
   ],
   "source": [
    "# Reshape a copy of x into a matrix with a 1's column appended to it\n",
    "X = np.c_[xdata[:], np.ones(xdata.shape)].reshape(-1, 2)\n",
    "print(X[25:50])  # Show a few entries to get the idea"
   ]
  },
  {
   "cell_type": "code",
   "execution_count": 15,
   "metadata": {},
   "outputs": [
    {
     "name": "stdout",
     "output_type": "stream",
     "text": [
      "Analytical solution loss: 194.4691\n",
      "Gradient descent loss: 205.1399\n"
     ]
    },
    {
     "data": {
      "image/png": "[encoded data removed]",
      "text/plain": [
       "<Figure size 432x288 with 1 Axes>"
      ]
     },
     "metadata": {},
     "output_type": "display_data"
    }
   ],
   "source": [
    "# Finally just apply the equation using numpy! \n",
    "# Note: The output will be a [2,1] vector containing m and b\n",
    "m, b = (np.linalg.inv(X.T@X)@X.T)@ydata\n",
    "\n",
    "# Looking at the loss compared to the gradient descent method\n",
    "y_hat = m*xdata + b\n",
    "closed_form_loss = mseloss(y_hat, ydata)\n",
    "grad_descent_loss = mseloss(y_pred, ydata)\n",
    "print(\"Analytical solution loss: {0:.4f}\\nGradient descent loss: {1:.4f}\".format(\n",
    "    closed_form_loss, grad_descent_loss\n",
    "))\n",
    "line = [(y_hat, \"Analytical solution\"), (y_pred, \"Gradient descent\")]\n",
    "show_dataset(xdata, ydata, line)"
   ]
  },
  {
   "cell_type": "markdown",
   "metadata": {},
   "source": [
    "Even after 500 iterations over the whole data set, gradient descent still does not do as well as the analytical solution!"
   ]
  }
 ],
 "metadata": {
  "kernelspec": {
   "display_name": "Python 3",
   "language": "python",
   "name": "python3"
  },
  "language_info": {
   "codemirror_mode": {
    "name": "ipython",
    "version": 3
   },
   "file_extension": ".py",
   "mimetype": "text/x-python",
   "name": "python",
   "nbconvert_exporter": "python",
   "pygments_lexer": "ipython3",
   "version": "3.7.4"
  }
 },
 "nbformat": 4,
 "nbformat_minor": 2
}
