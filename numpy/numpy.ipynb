{
 "cells": [
  {
   "cell_type": "markdown",
   "metadata": {},
   "source": [
    "# Introduction to NumPy\n",
    "\n",
    "We'll import:\n",
    "1. NumPy for the tensor work\n",
    "2. Matplotlib for visualizations\n",
    "3. The time module for timing operations"
   ]
  },
  {
   "cell_type": "code",
   "execution_count": 32,
   "metadata": {},
   "outputs": [],
   "source": [
    "import matplotlib.pyplot as plt\n",
    "import numpy as np\n",
    "import time\n",
    "\n",
    "%matplotlib inline"
   ]
  },
  {
   "cell_type": "markdown",
   "metadata": {},
   "source": [
    "# Multidimensional Arrays\n",
    "\n",
    "From an introductory CS course or from personal experience you may have seen arrays that look like this,\n",
    "\n",
    "$$[1, 2, 3, 4, 5]$$\n",
    "\n",
    "Or even 2-D arrays like this,\n",
    "\n",
    "$$ [[1, 2, 3],\\\\\n",
    "     \\:[4, 5, 6],\\\\\n",
    "     \\:[7, 8, 9]] $$\n",
    "\n",
    "But what about a 3-D, 4-D, or N-D array?\n",
    "\n",
    "$$[[[1, 2],\\\\\n",
    "  \\;\\;\\;[3, 4]],\\\\\n",
    "  \\:[[5, 6],\\\\\n",
    "  \\;\\;\\;[7, 8]]]$$\n",
    "\n",
    "\n",
    "Turns out we can create these types of arrays in native Python, but they are hard to visualize and we will soon see that NumPy is a much more powerful tool for dealing with these high dimensional arrays also known as **tensors**."
   ]
  },
  {
   "cell_type": "code",
   "execution_count": 16,
   "metadata": {},
   "outputs": [
    {
     "name": "stdout",
     "output_type": "stream",
     "text": [
      "[[1, 2], [3, 4]] \n",
      "\n",
      "[[1 2]\n",
      " [3 4]]\n"
     ]
    }
   ],
   "source": [
    "# a 2-D array in python\n",
    "a = [[1,2], [3,4]]\n",
    "print(a, '\\n')\n",
    "\n",
    "# a 2-D array in numpy\n",
    "b = np.array(a)\n",
    "print(b)"
   ]
  },
  {
   "cell_type": "code",
   "execution_count": 17,
   "metadata": {},
   "outputs": [
    {
     "name": "stdout",
     "output_type": "stream",
     "text": [
      "[[[1, 2], [3, 4]], [[5, 6], [7, 8]]] \n",
      "\n",
      "[[[1 2]\n",
      "  [3 4]]\n",
      "\n",
      " [[5 6]\n",
      "  [7 8]]]\n"
     ]
    }
   ],
   "source": [
    "# a 3-D array in python\n",
    "c = [[[1,2], [3,4]], [[5,6], [7,8]]]\n",
    "print(c, '\\n')\n",
    "\n",
    "\n",
    "# a 3-D array in numpy\n",
    "d = np.array(c)\n",
    "print(d)"
   ]
  },
  {
   "cell_type": "markdown",
   "metadata": {},
   "source": [
    "### So what's the difference?\n",
    "\n",
    "Visually, we can see that the np.array object can take in a python array as an argument and that it prints out the array in a nicer manner.\n",
    "\n",
    "However, the np.array object is actually just one way to create the more fundamental **np.ndarray** base type.\n",
    "\n",
    "There are several properties of an np.ndarray, there are some important ones:\n",
    "1. Dimension (rank) - how many dimensions a tensor has\n",
    "2. Shape - The sizes of each dimension\n",
    "3. Data type - The kind of data a tensor holds"
   ]
  },
  {
   "cell_type": "code",
   "execution_count": 18,
   "metadata": {},
   "outputs": [
    {
     "name": "stdout",
     "output_type": "stream",
     "text": [
      "3\n",
      "(2, 2, 2)\n",
      "int64\n"
     ]
    }
   ],
   "source": [
    "# lets print out some attributes of the ndarray d, from above\n",
    "print(d.ndim)\n",
    "print(d.shape)\n",
    "print(d.dtype)"
   ]
  },
  {
   "cell_type": "markdown",
   "metadata": {},
   "source": [
    "# Array Indexing\n",
    "\n",
    "Now we're faced with the question - how do we read the data held in a tensor?\n",
    "\n",
    "Let's try to access the data in the array from above:"
   ]
  },
  {
   "cell_type": "code",
   "execution_count": 24,
   "metadata": {},
   "outputs": [
    {
     "name": "stdout",
     "output_type": "stream",
     "text": [
      "4\n",
      "4 \n",
      "\n",
      "[1 5]\n",
      "[1 3]\n",
      "[1 2] \n",
      "\n",
      "[[1 3]\n",
      " [5 7]]\n",
      "[[1 2]\n",
      " [3 4]]\n",
      "[[1 2]\n",
      " [5 6]]\n"
     ]
    }
   ],
   "source": [
    "# individual elements\n",
    "print(d[0][1][1])\n",
    "print(d[0, 1, 1], '\\n')\n",
    "\n",
    "# individual dimensions\n",
    "print(d[:, 0, 0])\n",
    "print(d[0, :, 0])\n",
    "print(d[0, 0, :], '\\n')\n",
    "\n",
    "# multiple dimensions\n",
    "print(d[:, :, 0])\n",
    "print(d[0, :, :])\n",
    "print(d[:, 0, :])"
   ]
  },
  {
   "cell_type": "markdown",
   "metadata": {},
   "source": [
    "For the first time, this high dimensional indexing can be hard to wrap your head around. Most of the time, you won't be able to visualize indexing tensors higher than 3-D but you get better with more practice!\n",
    "\n",
    "Question: What does this line do?"
   ]
  },
  {
   "cell_type": "code",
   "execution_count": 25,
   "metadata": {},
   "outputs": [
    {
     "name": "stdout",
     "output_type": "stream",
     "text": [
      "[[[1 2]\n",
      "  [3 4]]\n",
      "\n",
      " [[5 6]\n",
      "  [7 8]]]\n"
     ]
    }
   ],
   "source": [
    "print(d[:, :, :])"
   ]
  },
  {
   "cell_type": "markdown",
   "metadata": {},
   "source": [
    "# Vectorization\n",
    "\n",
    "Vectorization is what makes NumPy and other linear algebra libraries so powerful. In short, vectorization is ability to perform computation in parallel.\n",
    "\n",
    "Let's start with a simple example:"
   ]
  },
  {
   "cell_type": "code",
   "execution_count": 44,
   "metadata": {},
   "outputs": [],
   "source": [
    "a = np.array([1, 2, 3, 4, 5, 6, 7, 8])\n",
    "b = np.array([2, 3, 4, 5, 6, 7, 8, 9])"
   ]
  },
  {
   "cell_type": "markdown",
   "metadata": {},
   "source": [
    "How do we perform the operation $a + b$?"
   ]
  },
  {
   "cell_type": "code",
   "execution_count": 45,
   "metadata": {},
   "outputs": [
    {
     "name": "stdout",
     "output_type": "stream",
     "text": [
      "Time taken: 0.00013685226440429688\n",
      "[3, 5, 7, 9, 11, 13, 15, 17]\n"
     ]
    }
   ],
   "source": [
    "# python for-loop way\n",
    "start = time.time()\n",
    "ans_loop = []\n",
    "for i, j in zip(a, b):\n",
    "    ans_loop.append(i + j)\n",
    "end = time.time() - start\n",
    "\n",
    "print(f\"Time taken: {end}\")\n",
    "print(ans_loop)"
   ]
  },
  {
   "cell_type": "code",
   "execution_count": 46,
   "metadata": {},
   "outputs": [
    {
     "name": "stdout",
     "output_type": "stream",
     "text": [
      "Time taken: 8.58306884765625e-05\n",
      "[ 3  5  7  9 11 13 15 17]\n"
     ]
    }
   ],
   "source": [
    "# numpy vectorized way\n",
    "start = time.time()\n",
    "ans_vec = a + b\n",
    "end = time.time() - start\n",
    "\n",
    "print(f\"Time taken: {end}\")\n",
    "print(ans_vec)"
   ]
  },
  {
   "cell_type": "markdown",
   "metadata": {},
   "source": [
    "Both methods produce the correct answer! The NumPy method is faster but not much faster for this example. What happens if we scale the problem up..."
   ]
  },
  {
   "cell_type": "code",
   "execution_count": 54,
   "metadata": {},
   "outputs": [],
   "source": [
    "a = np.arange(1e5)\n",
    "b = np.arange(1e5)"
   ]
  },
  {
   "cell_type": "code",
   "execution_count": 55,
   "metadata": {},
   "outputs": [
    {
     "name": "stdout",
     "output_type": "stream",
     "text": [
      "Time taken - for loop: 0.0500180721282959\n",
      "Time taken - vectorized: 0.0006680488586425781\n"
     ]
    }
   ],
   "source": [
    "# python for-loop way\n",
    "start = time.time()\n",
    "ans_loop = []\n",
    "for i, j in zip(a, b):\n",
    "    ans_loop.append(i + j)\n",
    "end = time.time() - start\n",
    "\n",
    "print(f\"Time taken - for loop: {end}\")\n",
    "\n",
    "# numpy vectorized way\n",
    "start = time.time()\n",
    "ans_vec = a + b\n",
    "end = time.time() - start\n",
    "\n",
    "print(f\"Time taken - vectorized: {end}\")"
   ]
  },
  {
   "cell_type": "markdown",
   "metadata": {},
   "source": [
    "Here we can really see the power of vectorization... and the great thing about this is that it applies to any numpy supported operations ($+, -, *, **, /, //$), **and** any function:"
   ]
  },
  {
   "cell_type": "code",
   "execution_count": 60,
   "metadata": {},
   "outputs": [
    {
     "data": {
      "image/png": "[encoded data removed]",
      "text/plain": [
       "<Figure size 432x288 with 1 Axes>"
      ]
     },
     "metadata": {},
     "output_type": "display_data"
    }
   ],
   "source": [
    "# domain\n",
    "x = np.linspace(-5, 5, 100)\n",
    "\n",
    "# custom function\n",
    "def f(x): return x**2 + 1\n",
    "    \n",
    "plt.figure()\n",
    "plt.plot(x, f(x), '-r')\n",
    "plt.plot(x, np.exp(x), '-b')\n",
    "plt.show()"
   ]
  },
  {
   "cell_type": "markdown",
   "metadata": {},
   "source": [
    "# Random Sampling\n",
    "\n",
    "Random sampling is important because it is **very** prevelant and important in machine learning and numerical computing in general. \n",
    "\n",
    "Luckily NumPy has a random sampling module! [NumPy Random Docs](https://docs.scipy.org/doc/numpy-1.15.0/reference/routines.random.html)"
   ]
  },
  {
   "cell_type": "code",
   "execution_count": 62,
   "metadata": {},
   "outputs": [
    {
     "name": "stdout",
     "output_type": "stream",
     "text": [
      "[[0.19330373 0.90922253 0.4387881  0.93564876]\n",
      " [0.61686375 0.10056156 0.46579875 0.18626535]\n",
      " [0.84652527 0.05142946 0.31308121 0.57361379]]\n"
     ]
    }
   ],
   "source": [
    "# sampling arbitrary random vectors from a uniform distribution\n",
    "randvec = np.random.rand(3,4)\n",
    "print(randvec)"
   ]
  },
  {
   "cell_type": "code",
   "execution_count": 72,
   "metadata": {},
   "outputs": [
    {
     "name": "stdout",
     "output_type": "stream",
     "text": [
      "[6 1 2 9 4 8 5 3 0 7] \n",
      "\n",
      "3\n",
      "[6 6 5]\n",
      "[6 7 0]\n"
     ]
    }
   ],
   "source": [
    "a = np.arange(10)\n",
    "\n",
    "# shuffling elements of an array\n",
    "np.random.shuffle(a)\n",
    "print(a, '\\n')\n",
    "\n",
    "# picking elements randomly from an array\n",
    "randelems1 = np.random.choice(a)\n",
    "randelems2 = np.random.choice(a, 3)\n",
    "randelems3 = np.random.choice(a, 3, replace=False)\n",
    "\n",
    "print(randelems1)\n",
    "print(randelems2)\n",
    "print(randelems3)"
   ]
  },
  {
   "cell_type": "code",
   "execution_count": 74,
   "metadata": {},
   "outputs": [
    {
     "name": "stdout",
     "output_type": "stream",
     "text": [
      "[[7 7]\n",
      " [4 1]]\n"
     ]
    }
   ],
   "source": [
    "# sampling random integers within a range\n",
    "randints = np.random.randint(1, 9, size=(2,2))\n",
    "print(randints)"
   ]
  },
  {
   "cell_type": "code",
   "execution_count": null,
   "metadata": {},
   "outputs": [],
   "source": []
  }
 ],
 "metadata": {
  "kernelspec": {
   "display_name": "Python 3",
   "language": "python",
   "name": "python3"
  },
  "language_info": {
   "codemirror_mode": {
    "name": "ipython",
    "version": 3
   },
   "file_extension": ".py",
   "mimetype": "text/x-python",
   "name": "python",
   "nbconvert_exporter": "python",
   "pygments_lexer": "ipython3",
   "version": "3.7.4"
  }
 },
 "nbformat": 4,
 "nbformat_minor": 2
}
