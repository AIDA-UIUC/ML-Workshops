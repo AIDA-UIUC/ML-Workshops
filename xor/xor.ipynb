{
 "cells": [
  {
   "cell_type": "code",
   "execution_count": 680,
   "metadata": {},
   "outputs": [],
   "source": [
    "# Import dependencies\n",
    "from mpl_toolkits import mplot3d\n",
    "import numpy as np\n",
    "import matplotlib.pyplot as plt\n",
    "\n",
    "%matplotlib inline"
   ]
  },
  {
   "cell_type": "code",
   "execution_count": 73,
   "metadata": {},
   "outputs": [],
   "source": [
    "# Set the random seed\n",
    "np.random.seed(0)"
   ]
  },
  {
   "cell_type": "code",
   "execution_count": 592,
   "metadata": {},
   "outputs": [],
   "source": [
    "# Data generating function\n",
    "def generate_data():\n",
    "    bitpairs = np.array([[1,0],\n",
    "                         [0,1],\n",
    "                         [0,0],\n",
    "                         [1,1]])  # data\n",
    "    xor_labels = np.array([[1],\n",
    "                           [1],\n",
    "                           [0],\n",
    "                           [0]])  # labels\n",
    "    return bitpairs, xor_labels"
   ]
  },
  {
   "cell_type": "code",
   "execution_count": 593,
   "metadata": {},
   "outputs": [],
   "source": [
    "# Define the initalization scheme for the network\n",
    "def get_parameters():\n",
    "    \"\"\"Generates weights for the XOR network sampled from the normal distribution\n",
    "    \"\"\"\n",
    "    w = [2 * np.random.rand(2,2) - 1,\n",
    "         2 * np.random.randn(2,1) - 1]\n",
    "    b = [2 * np.random.randn(2) - 1,\n",
    "         2 * np.random.randn(1) - 1]\n",
    "    return w, b"
   ]
  },
  {
   "cell_type": "code",
   "execution_count": 594,
   "metadata": {},
   "outputs": [],
   "source": [
    "# Debugging tool for checking tensor shapes\n",
    "def print_shapes(ls, name):\n",
    "    \"\"\"Helper to print shapes of elements in a list\n",
    "    \"\"\"\n",
    "    print(f\"{name}: {[l.shape for l in ls]}\")"
   ]
  },
  {
   "cell_type": "code",
   "execution_count": 595,
   "metadata": {},
   "outputs": [],
   "source": [
    "# Define the activation function\n",
    "def sigmoid(x, deriv=False):\n",
    "    \"\"\"Defines the sigmoid activation function and its derivative\n",
    "    \"\"\"\n",
    "    if deriv:\n",
    "        return sigmoid(x) * (1 - sigmoid(x))\n",
    "    return 1 / (1 + np.exp(-x))"
   ]
  },
  {
   "cell_type": "code",
   "execution_count": 596,
   "metadata": {},
   "outputs": [],
   "source": [
    "# Define the loss function\n",
    "def binary_xentropy(target, p, deriv=False):\n",
    "    \"\"\"Defines the binary cross entropy loss function and its derivative\n",
    "    \"\"\"\n",
    "    if deriv:\n",
    "        return (p - target) / (p * (1 - p))\n",
    "    return -(target * np.log(p) + (1 - target) * np.log(1 - p))"
   ]
  },
  {
   "cell_type": "code",
   "execution_count": 609,
   "metadata": {},
   "outputs": [],
   "source": [
    "def shuffle_and_batch(X, Y, batch_size):\n",
    "    \"\"\"Method to shuffle and batch training data\n",
    "    \"\"\"\n",
    "    assert batch_size <= len(X), print(\"Batch size must be smaller than the dataset size\")\n",
    "    \n",
    "    length = len(X)\n",
    "    shuff_indices = np.random.permutation(length)\n",
    "    x, y = X[shuff_indices], Y[shuff_indices]\n",
    "\n",
    "    # Return a generator for the data\n",
    "    return ((x[i:i + batch_size], y[i:i + batch_size]) for i in range(0, length, batch_size))"
   ]
  },
  {
   "cell_type": "code",
   "execution_count": 610,
   "metadata": {},
   "outputs": [],
   "source": [
    "def feedforward(x, weights, biases):\n",
    "    \"\"\"Perform feed forward operation\n",
    "    \"\"\"\n",
    "    zs, activations, d_activations = [], [x], []\n",
    "    for w, b in zip(weights, biases):\n",
    "        \n",
    "        # compute and store the linear transformation\n",
    "        z = activations[-1]@w + b\n",
    "        zs.append(z)\n",
    "        \n",
    "        # compute and store the nonlinear transformation\n",
    "        act = sigmoid(z) \n",
    "        activations.append(act)\n",
    "        \n",
    "        # compute the activation function derivatives for computing the error signals later\n",
    "        d_activations.append(sigmoid(z, deriv=True))\n",
    "    \n",
    "    return zs, activations, d_activations"
   ]
  },
  {
   "cell_type": "code",
   "execution_count": 611,
   "metadata": {},
   "outputs": [],
   "source": [
    "def backprop(x, y, weights, biases):\n",
    "    \"\"\"Obtain gradients through backprop\n",
    "    \"\"\"\n",
    "    # get the z values, activations, and activation derivatives \n",
    "    zs, activations, d_activations = feedforward(x, weights, biases)\n",
    "    \n",
    "    # Calculate error signal compute gradients for last layer weights and biases\n",
    "    gradw, gradb = [0 for _ in weights], [0 for _ in biases]\n",
    "\n",
    "    delta = binary_xentropy(y, activations[-1], deriv=True) * d_activations[-1]\n",
    "    gradw[-1] = activations[-2].T@delta\n",
    "    gradb[-1] = delta.mean(axis=0)\n",
    "\n",
    "    # Compute gradients for rest of layers\n",
    "    # Even though our NN is only 2 layers, it makes our code more general & extendable to bigger NNs \n",
    "    for layer in range(2, len(weights) + 1):\n",
    "        \n",
    "        # compute error signal using the higher layer's error signal\n",
    "        delta = delta@weights[-layer + 1].T * d_activations[-layer]\n",
    "        \n",
    "        # compute gradients\n",
    "        gradw[-layer] = activations[-(layer + 1)].T@delta\n",
    "        gradb[-layer] = delta.mean(axis=0)\n",
    "        \n",
    "    return gradw, gradb"
   ]
  },
  {
   "cell_type": "code",
   "execution_count": 612,
   "metadata": {},
   "outputs": [],
   "source": [
    "def SGD(X, Y, batch_size, lr, weights, biases):\n",
    "    \"\"\"Performs stochastic gradient descent over mini batches\n",
    "    \"\"\"\n",
    "    # Load data batches and train\n",
    "    for x, y in shuffle_and_batch(X, Y, batch_size):\n",
    "\n",
    "        # Obtain gradients and optimize with SGD\n",
    "        weight_grads, bias_grads = backprop(x, y, weights, biases)\n",
    "        \n",
    "        # update parameters\n",
    "        for i in range(len(weights)):\n",
    "            weights[i] = weights[i] - lr * weight_grads[i]\n",
    "            biases[i] = biases[i] - lr * bias_grads[i]"
   ]
  },
  {
   "cell_type": "code",
   "execution_count": 613,
   "metadata": {},
   "outputs": [],
   "source": [
    "def train(dataset, weights, biases, epochs=100, lr=1e-3, batch_size=4):\n",
    "    \"\"\"Trains the XOR neural network with SGD\n",
    "    \"\"\"\n",
    "    losses = []\n",
    "    for epoch in range(epochs):\n",
    "\n",
    "        # perform stochastic gradient through the network\n",
    "        SGD(*dataset, batch_size, lr, weights, biases)\n",
    "\n",
    "        _, activations, _ = feedforward(dataset[0], weights, biases)\n",
    "        epoch_loss = binary_xentropy(dataset[1], activations[-1]).mean()\n",
    "        losses.append(epoch_loss)\n",
    "        if epoch % (epochs // 10) == 0:\n",
    "            print(f\"Running epoch {epoch:06d} - loss: {epoch_loss:.06f}\")\n",
    "\n",
    "    return losses"
   ]
  },
  {
   "cell_type": "code",
   "execution_count": 614,
   "metadata": {},
   "outputs": [],
   "source": [
    "def predict(dataset, weights, biases):\n",
    "    \"\"\"Make predictions on the dataset with the trained network\n",
    "    \"\"\"\n",
    "    X, _ = dataset\n",
    "    _, activations, _ = feedforward(X, weights, biases)\n",
    "    print(\"Truth table predictions\")\n",
    "    print(\"_______________________\")\n",
    "    for x, pred in zip(X, activations[-1]):\n",
    "        print(f\"{x[0]} {x[1]} | {pred[0]:.14f}\")"
   ]
  },
  {
   "cell_type": "code",
   "execution_count": 615,
   "metadata": {},
   "outputs": [],
   "source": [
    "def plot_loss(losses):\n",
    "    \"\"\"Plots the losses of the network over the training phase\n",
    "    \"\"\"\n",
    "    plt.figure()\n",
    "    plt.title(f\"Training Loss\")\n",
    "    plt.xlabel(\"Epochs\")\n",
    "    plt.ylabel(\"binary cross-entropy loss\")\n",
    "    plt.plot(losses)\n",
    "    plt.show()"
   ]
  },
  {
   "cell_type": "code",
   "execution_count": 633,
   "metadata": {},
   "outputs": [
    {
     "name": "stdout",
     "output_type": "stream",
     "text": [
      "Running epoch 000000 - loss: 0.737447\n",
      "Running epoch 000100 - loss: 0.689949\n",
      "Running epoch 000200 - loss: 0.019145\n",
      "Running epoch 000300 - loss: 0.007287\n",
      "Running epoch 000400 - loss: 0.004426\n",
      "Running epoch 000500 - loss: 0.003161\n",
      "Running epoch 000600 - loss: 0.002452\n",
      "Running epoch 000700 - loss: 0.002000\n",
      "Running epoch 000800 - loss: 0.001687\n",
      "Running epoch 000900 - loss: 0.001458\n"
     ]
    },
    {
     "data": {
      "image/png": "[encoded data removed]",
      "text/plain": [
       "<Figure size 432x288 with 1 Axes>"
      ]
     },
     "metadata": {},
     "output_type": "display_data"
    }
   ],
   "source": [
    "# initialize the parameters and get the data\n",
    "weights, biases = get_parameters()\n",
    "dataset = generate_data()\n",
    "\n",
    "# train the network and plot the loss curve\n",
    "losses = train(dataset,\n",
    "               weights,\n",
    "               biases,\n",
    "               epochs=1000,\n",
    "               lr=3,\n",
    "               batch_size=4)\n",
    "plot_loss(losses)"
   ]
  },
  {
   "cell_type": "code",
   "execution_count": 667,
   "metadata": {},
   "outputs": [
    {
     "name": "stdout",
     "output_type": "stream",
     "text": [
      "Truth table predictions\n",
      "_______________________\n",
      "1 0 | 0.99910744170021\n",
      "0 1 | 0.99910746225869\n",
      "0 0 | 0.00077410463694\n",
      "1 1 | 0.00257637094567\n"
     ]
    }
   ],
   "source": [
    "# Evaluate the network after training\n",
    "predict(dataset, weights, biases)"
   ]
  },
  {
   "cell_type": "code",
   "execution_count": 780,
   "metadata": {},
   "outputs": [],
   "source": [
    "# Plot the surface of activations that the network learned\n",
    "def plot_activation_surface(weights, biases, three_dim=False):\n",
    "\n",
    "    X, Y = np.mgrid[0:1.1:0.1, 0:1.1:0.1]\n",
    "    dataset = np.array([[x, y] for rowx, rowy in zip(Y, X) for x, y in zip(rowx, rowy)])\n",
    "    \n",
    "    _, activations, _ = feedforward(dataset, weights, biases)\n",
    "    activation_grid = activations[-1].reshape(X.shape[0], Y.shape[0]).T\n",
    "    \n",
    "    if three_dim:\n",
    "        ax = plt.axes(projection='3d')\n",
    "        ax.view_init(50, 120)\n",
    "        ax.plot_surface(X, Y, activation_grid, cmap='binary_r')\n",
    "    else:\n",
    "        plt.xlim(0, 10)\n",
    "        plt.ylim(0, 10)\n",
    "        plt.imshow(activation_grid, cmap='binary_r')"
   ]
  },
  {
   "cell_type": "code",
   "execution_count": 781,
   "metadata": {},
   "outputs": [
    {
     "data": {
      "image/png": "[encoded data removed]",
      "text/plain": [
       "<Figure size 432x288 with 1 Axes>"
      ]
     },
     "metadata": {},
     "output_type": "display_data"
    }
   ],
   "source": [
    "# plot 2d activation map\n",
    "plot_activation_surface(weights, biases)"
   ]
  },
  {
   "cell_type": "code",
   "execution_count": 782,
   "metadata": {},
   "outputs": [
    {
     "data": {
      "image/png": "[encoded data removed]",
      "text/plain": [
       "<Figure size 432x288 with 1 Axes>"
      ]
     },
     "metadata": {},
     "output_type": "display_data"
    }
   ],
   "source": [
    "# plot 3d activation map\n",
    "plot_activation_surface(weights, biases, three_dim=True)"
   ]
  },
  {
   "cell_type": "code",
   "execution_count": null,
   "metadata": {},
   "outputs": [],
   "source": []
  }
 ],
 "metadata": {
  "kernelspec": {
   "display_name": "Python 3",
   "language": "python",
   "name": "python3"
  },
  "language_info": {
   "codemirror_mode": {
    "name": "ipython",
    "version": 3
   },
   "file_extension": ".py",
   "mimetype": "text/x-python",
   "name": "python",
   "nbconvert_exporter": "python",
   "pygments_lexer": "ipython3",
   "version": "3.7.4"
  }
 },
 "nbformat": 4,
 "nbformat_minor": 2
}
